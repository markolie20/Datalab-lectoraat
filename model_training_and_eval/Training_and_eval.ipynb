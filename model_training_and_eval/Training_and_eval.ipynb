{
 "cells": [
  {
   "cell_type": "markdown",
   "id": "83b35c00",
   "metadata": {},
   "source": [
    "# Training\n",
    "\n",
    "In deze notebook gaan we verschillende pre-trained modellen finetunen op onze gegenereerde data. We hebben deze modellen gekozen op verschillende eisen. Waar zijn ze op getrained? hHoe groot zijn de modellen? Zijn ze opensource? enz.."
   ]
  },
  {
   "cell_type": "code",
   "execution_count": 3,
   "id": "b60a0051",
   "metadata": {},
   "outputs": [],
   "source": [
    "# import os\n",
    "# import json\n",
    "# import glob\n",
    "# from collections import defaultdict\n",
    "# from transformers import pipeline, AutoTokenizer\n",
    "# from tqdm import tqdm\n",
    "# import torch\n",
    "\n",
    "# # === CONFIG ===\n",
    "# DATA_PATH = \"../data/chat_logs\"\n",
    "# OUTPUT_FILE = \"samengevoegd_met_samenvattingen_local.jsonl\"\n",
    "# MODEL_NAME = \"philschmid/bart-large-cnn-samsum\"\n",
    "\n",
    "# # === SAMENVATTINGSMODEL EN TOKENIZER LADEN ===\n",
    "# device = 0 if torch.cuda.is_available() else -1\n",
    "# print(f\"Device set to use: {'cuda' if device == 0 else 'cpu'}\")\n",
    "\n",
    "# summarizer = pipeline(\"summarization\", model=MODEL_NAME, tokenizer=MODEL_NAME, device=device)\n",
    "# tokenizer = AutoTokenizer.from_pretrained(MODEL_NAME)\n",
    "# MAX_INPUT_LENGTH = tokenizer.model_max_length\n",
    "\n",
    "# def split_text_by_tokens(text, tokenizer, max_input_tokens):\n",
    "#     \"\"\"\n",
    "#     Splitst een lange tekst in stukken die elk maximaal max_input_tokens tokens bevatten.\n",
    "#     \"\"\"\n",
    "#     tokens = tokenizer.encode(text, add_special_tokens=False)\n",
    "#     chunks = []\n",
    "#     for i in range(0, len(tokens), max_input_tokens):\n",
    "#         chunk_tokens = tokens[i:i+max_input_tokens]\n",
    "#         chunk_text = tokenizer.decode(chunk_tokens, skip_special_tokens=True)\n",
    "#         chunks.append(chunk_text)\n",
    "#     return chunks\n",
    "\n",
    "# # === BESTANDEN VERWERKEN ===\n",
    "# all_chat_data = []\n",
    "\n",
    "# for filepath in glob.glob(os.path.join(DATA_PATH, \"*.json\")):\n",
    "#     with open(filepath, \"r\", encoding=\"utf-8\") as f:\n",
    "#         data = json.load(f)\n",
    "#         print(len(data), \"items gevonden in\", filepath)\n",
    "#     topics = defaultdict(list)\n",
    "#     for item in data:\n",
    "#         topics[item[\"topic_id\"]].append(item[\"text\"])\n",
    "\n",
    "#     for topic_id, messages in topics.items():\n",
    "#         combined_text = \" \".join(messages)\n",
    "#         if len(combined_text.strip()) < 50:\n",
    "#             continue\n",
    "\n",
    "#         try:\n",
    "#             text_chunks = split_text_by_tokens(combined_text, tokenizer, MAX_INPUT_LENGTH - 5)\n",
    "#             summaries = []\n",
    "\n",
    "#             for chunk in text_chunks:\n",
    "#                 if not chunk.strip():\n",
    "#                     continue\n",
    "#                 summary_output = summarizer(\n",
    "#                     chunk,\n",
    "#                     max_length=100,\n",
    "#                     min_length=30,\n",
    "#                     do_sample=False,\n",
    "#                 )\n",
    "#                 summaries.append(summary_output[0][\"summary_text\"])\n",
    "\n",
    "#             full_summary = \" \".join(summaries)\n",
    "#             if not full_summary.strip():\n",
    "#                 full_summary = \"No summary generated.\"\n",
    "\n",
    "#         except Exception as e:\n",
    "#             print(f\"Error summarizing topic_id {topic_id}: {e}\")\n",
    "#             full_summary = \"Summary not available due to error.\"\n",
    "\n",
    "#         all_chat_data.append({\n",
    "#             \"topic_id\": topic_id,\n",
    "#             \"chat\": combined_text,\n",
    "#             \"summary\": full_summary\n",
    "#         })\n",
    "\n",
    "# # === OPSLAAN ALS JSONL ===\n",
    "# with open(OUTPUT_FILE, \"w\", encoding=\"utf-8\") as f:\n",
    "#     for entry in all_chat_data:\n",
    "#         json.dump(entry, f, ensure_ascii=False)\n",
    "#         f.write(\"\\n\")\n",
    "\n",
    "# print(f\"Dataset opgeslagen als {OUTPUT_FILE} met {len(all_chat_data)} items.\")"
   ]
  },
  {
   "cell_type": "markdown",
   "id": "3a967ffc",
   "metadata": {},
   "source": [
    "**Uitleg:**  \n",
    "Deze code:\n",
    "- Laadt een BART-samenvattingsmodel (`bart-large-cnn-samsum`) en bijbehorende tokenizer.\n",
    "- Verwerkt JSON-chatdata per `topic_id`, combineert tekst tot één document per onderwerp.\n",
    "- Splits lange documenten op in chunks die passen in het model (minder dan `MAX_INPUT_LENGTH` tokens).\n",
    "- Genereert per chunk een samenvatting en combineert deze.\n",
    "- Slaat alles op als `.jsonl`-bestand waarin elke regel een samenvatting bevat.\n",
    "\n"
   ]
  },
  {
   "cell_type": "code",
   "execution_count": 4,
   "id": "89ab5481",
   "metadata": {},
   "outputs": [
    {
     "name": "stderr",
     "output_type": "stream",
     "text": [
      "c:\\Users\\Mark\\Documents\\School\\ADS\\datalab5\\Datalab-lectoraat\\.venv\\Lib\\site-packages\\tqdm\\auto.py:21: TqdmWarning: IProgress not found. Please update jupyter and ipywidgets. See https://ipywidgets.readthedocs.io/en/stable/user_install.html\n",
      "  from .autonotebook import tqdm as notebook_tqdm\n",
      "Map:   0%|          | 0/10 [00:00<?, ? examples/s]c:\\Users\\Mark\\Documents\\School\\ADS\\datalab5\\Datalab-lectoraat\\.venv\\Lib\\site-packages\\transformers\\tokenization_utils_base.py:3959: UserWarning: `as_target_tokenizer` is deprecated and will be removed in v5 of Transformers. You can tokenize your labels by using the argument `text_target` of the regular `__call__` method (either in the same call as your input texts if you use the same keyword arguments, or in a separate call.\n",
      "  warnings.warn(\n",
      "Map: 100%|██████████| 10/10 [00:00<00:00, 18.42 examples/s]\n"
     ]
    }
   ],
   "source": [
    "from datasets import load_dataset, Dataset\n",
    "import json\n",
    "from transformers import BartTokenizer, BartForConditionalGeneration, TrainingArguments, Trainer, DataCollatorForSeq2Seq\n",
    "import torch\n",
    "from collections import defaultdict\n",
    "\n",
    "# Laad je jsonl-bestand in als een lijst van dicts\n",
    "with open(\"samengevoegd_met_samenvattingen_local.jsonl\", \"r\", encoding=\"utf-8\") as f:\n",
    "    chat_data = [json.loads(line) for line in f]\n",
    "\n",
    "# Maak een Huggingface Dataset\n",
    "dataset = Dataset.from_list(chat_data)\n",
    "# Tokenizer en model laden\n",
    "model_name = \"facebook/bart-base\"\n",
    "tokenizer = BartTokenizer.from_pretrained(model_name)\n",
    "model = BartForConditionalGeneration.from_pretrained(model_name)\n",
    "\n",
    "# Preprocessing-functie\n",
    "def preprocess_function(example):\n",
    "    inputs = tokenizer(example[\"chat\"], max_length=512, truncation=True, padding=\"max_length\")\n",
    "    with tokenizer.as_target_tokenizer():\n",
    "        labels = tokenizer(example[\"summary\"], max_length=64, truncation=True, padding=\"max_length\")\n",
    "    inputs[\"labels\"] = labels[\"input_ids\"]\n",
    "    return inputs\n",
    "\n",
    "tokenized_dataset = dataset.map(preprocess_function, batched=False)\n",
    "\n",
    "# Data collator\n",
    "data_collator = DataCollatorForSeq2Seq(tokenizer=tokenizer, model=model)\n"
   ]
  },
  {
   "cell_type": "markdown",
   "id": "adfd5a54",
   "metadata": {},
   "source": [
    "**Uitleg:**  \n",
    "Deze cel:\n",
    "- Laadt het JSONL-bestand met gegenereerde samenvattingen.\n",
    "- Zet het om naar een Hugging Face `Dataset`.\n",
    "- Laadt `facebook/bart-base` model/tokenizer.\n",
    "- Tokeniseert de 'chat' als input en de 'summary' als target.\n",
    "- Gebruikt padding en truncation om input/output op vaste lengte te brengen.\n"
   ]
  },
  {
   "cell_type": "markdown",
   "id": "85817f29",
   "metadata": {},
   "source": [
    "## Bart"
   ]
  },
  {
   "cell_type": "code",
   "execution_count": null,
   "id": "a0f61444",
   "metadata": {},
   "outputs": [
    {
     "name": "stderr",
     "output_type": "stream",
     "text": [
      "Map: 100%|██████████| 10/10 [00:00<00:00, 17.95 examples/s]\n",
      "C:\\Users\\Mark\\AppData\\Local\\Temp\\ipykernel_5776\\3881543212.py:42: FutureWarning: `tokenizer` is deprecated and will be removed in version 5.0.0 for `Trainer.__init__`. Use `processing_class` instead.\n",
      "  trainer = Trainer(\n"
     ]
    },
    {
     "data": {
      "text/html": [
       "\n",
       "    <div>\n",
       "      \n",
       "      <progress value='3' max='3' style='width:300px; height:20px; vertical-align: middle;'></progress>\n",
       "      [3/3 00:02, Epoch 1/1]\n",
       "    </div>\n",
       "    <table border=\"1\" class=\"dataframe\">\n",
       "  <thead>\n",
       " <tr style=\"text-align: left;\">\n",
       "      <th>Step</th>\n",
       "      <th>Training Loss</th>\n",
       "    </tr>\n",
       "  </thead>\n",
       "  <tbody>\n",
       "  </tbody>\n",
       "</table><p>"
      ],
      "text/plain": [
       "<IPython.core.display.HTML object>"
      ]
     },
     "metadata": {},
     "output_type": "display_data"
    },
    {
     "name": "stderr",
     "output_type": "stream",
     "text": [
      "c:\\Users\\Mark\\Documents\\School\\ADS\\datalab5\\Datalab-lectoraat\\.venv\\Lib\\site-packages\\transformers\\modeling_utils.py:3465: UserWarning: Moving the following attributes in the config to the generation config: {'early_stopping': True, 'num_beams': 4, 'no_repeat_ngram_size': 3, 'forced_bos_token_id': 0}. You are seeing this warning because you've set generation parameters in the model config, as opposed to in the generation config.\n",
      "  warnings.warn(\n"
     ]
    },
    {
     "data": {
      "text/plain": [
       "('./bart-summarizer\\\\tokenizer_config.json',\n",
       " './bart-summarizer\\\\special_tokens_map.json',\n",
       " './bart-summarizer\\\\vocab.json',\n",
       " './bart-summarizer\\\\merges.txt',\n",
       " './bart-summarizer\\\\added_tokens.json')"
      ]
     },
     "execution_count": 5,
     "metadata": {},
     "output_type": "execute_result"
    }
   ],
   "source": [
    "from datasets import load_dataset, Dataset\n",
    "from transformers import BartTokenizer, BartForConditionalGeneration, TrainingArguments, Trainer, DataCollatorForSeq2Seq\n",
    "import torch\n",
    "from collections import defaultdict\n",
    "import json\n",
    "\n",
    "\n",
    "\n",
    "# Tokenizer en model laden\n",
    "model_name = \"facebook/bart-base\"\n",
    "tokenizer = BartTokenizer.from_pretrained(model_name)\n",
    "model = BartForConditionalGeneration.from_pretrained(model_name)\n",
    "\n",
    "# Preprocessing-functie\n",
    "def preprocess_function(example):\n",
    "    inputs = tokenizer(example[\"chat\"], max_length=512, truncation=True, padding=\"max_length\")\n",
    "    with tokenizer.as_target_tokenizer():\n",
    "        labels = tokenizer(example[\"summary\"], max_length=64, truncation=True, padding=\"max_length\")\n",
    "    inputs[\"labels\"] = labels[\"input_ids\"]\n",
    "    return inputs\n",
    "\n",
    "tokenized_dataset = dataset.map(preprocess_function, batched=False)\n",
    "\n",
    "# Data collator\n",
    "data_collator = DataCollatorForSeq2Seq(tokenizer=tokenizer, model=model)\n",
    "\n",
    "# Training parameters\n",
    "training_args = TrainingArguments(\n",
    "    output_dir=\"./bartsummarizer\",\n",
    "    per_device_train_batch_size=4,\n",
    "    num_train_epochs=1,\n",
    "    save_steps=500,\n",
    "    logging_dir=\"./logs\",\n",
    "    learning_rate=2e-5,\n",
    "    weight_decay=0.01,\n",
    "    save_total_limit=2,\n",
    "    report_to=[],\n",
    "\n",
    ")\n",
    "\n",
    "# Trainer\n",
    "trainer = Trainer(\n",
    "    model=model,\n",
    "    args=training_args,\n",
    "    train_dataset=tokenized_dataset,\n",
    "    tokenizer=tokenizer,\n",
    "    data_collator=data_collator\n",
    ")\n",
    "\n",
    "# Training starten\n",
    "trainer.train()\n",
    "model.save_pretrained(\"./bartsummarizer\")\n",
    "tokenizer.save_pretrained(\"./bartsummarizer\")\n"
   ]
  },
  {
   "cell_type": "markdown",
   "id": "669439e9",
   "metadata": {},
   "source": [
    "**Uitleg:**  \n",
    "Deze cel:\n",
    "- Herhaalt het tokeniseren van de dataset.\n",
    "- Stelt de `TrainingArguments` in, o.a.:\n",
    "  - `batch_size = 4`\n",
    "  - `epochs = 1`\n",
    "  - `learning_rate = 2e-5`\n",
    "- Maakt gebruik van `Trainer` om het model te trainen.\n",
    "- Slaat het getrainde model en tokenizer op in `./bart-summarizer`.\n"
   ]
  },
  {
   "cell_type": "markdown",
   "id": "fe76adb7",
   "metadata": {},
   "source": [
    "## T5-Base"
   ]
  },
  {
   "cell_type": "code",
   "execution_count": null,
   "id": "840ff31f",
   "metadata": {},
   "outputs": [
    {
     "name": "stderr",
     "output_type": "stream",
     "text": [
      "You are using the default legacy behaviour of the <class 'transformers.models.t5.tokenization_t5.T5Tokenizer'>. This is expected, and simply means that the `legacy` (previous) behavior will be used so nothing changes for you. If you want to use the new behaviour, set `legacy=False`. This should only be set if you understand what it means, and thoroughly read the reason why this was added as explained in https://github.com/huggingface/transformers/pull/24565\n",
      "Map: 100%|██████████| 10/10 [00:00<00:00, 34.72 examples/s]\n",
      "C:\\Users\\Mark\\AppData\\Local\\Temp\\ipykernel_5776\\4082124666.py:37: FutureWarning: `tokenizer` is deprecated and will be removed in version 5.0.0 for `Trainer.__init__`. Use `processing_class` instead.\n",
      "  trainer = Trainer(\n",
      "Passing a tuple of `past_key_values` is deprecated and will be removed in Transformers v4.48.0. You should pass an instance of `EncoderDecoderCache` instead, e.g. `past_key_values=EncoderDecoderCache.from_legacy_cache(past_key_values)`.\n"
     ]
    },
    {
     "data": {
      "text/html": [
       "\n",
       "    <div>\n",
       "      \n",
       "      <progress value='3' max='3' style='width:300px; height:20px; vertical-align: middle;'></progress>\n",
       "      [3/3 00:00, Epoch 1/1]\n",
       "    </div>\n",
       "    <table border=\"1\" class=\"dataframe\">\n",
       "  <thead>\n",
       " <tr style=\"text-align: left;\">\n",
       "      <th>Step</th>\n",
       "      <th>Training Loss</th>\n",
       "    </tr>\n",
       "  </thead>\n",
       "  <tbody>\n",
       "  </tbody>\n",
       "</table><p>"
      ],
      "text/plain": [
       "<IPython.core.display.HTML object>"
      ]
     },
     "metadata": {},
     "output_type": "display_data"
    },
    {
     "data": {
      "text/plain": [
       "('./t5-summarizer\\\\tokenizer_config.json',\n",
       " './t5-summarizer\\\\special_tokens_map.json',\n",
       " './t5-summarizer\\\\spiece.model',\n",
       " './t5-summarizer\\\\added_tokens.json')"
      ]
     },
     "execution_count": 6,
     "metadata": {},
     "output_type": "execute_result"
    }
   ],
   "source": [
    "from transformers import T5Tokenizer, T5ForConditionalGeneration, TrainingArguments, Trainer, DataCollatorForSeq2Seq\n",
    "\n",
    "\n",
    "# Model en tokenizer laden\n",
    "model_name = \"t5-small\"\n",
    "tokenizer = T5Tokenizer.from_pretrained(model_name)\n",
    "model = T5ForConditionalGeneration.from_pretrained(model_name)\n",
    "\n",
    "# Preprocessing-functie\n",
    "def preprocess_function(example):\n",
    "    input_text = \"summarize: \" + example[\"chat\"]\n",
    "    model_inputs = tokenizer(input_text, max_length=512, truncation=True, padding=\"max_length\")\n",
    "\n",
    "    labels = tokenizer(example[\"summary\"], max_length=64, truncation=True, padding=\"max_length\")\n",
    "    model_inputs[\"labels\"] = labels[\"input_ids\"]\n",
    "    return model_inputs\n",
    "\n",
    "tokenized_dataset = dataset.map(preprocess_function)\n",
    "\n",
    "# Data collator\n",
    "data_collator = DataCollatorForSeq2Seq(tokenizer=tokenizer, model=model)\n",
    "\n",
    "# Training parameters\n",
    "training_args = TrainingArguments(\n",
    "    output_dir=\"./t5summarizer\",\n",
    "    per_device_train_batch_size=4,\n",
    "    num_train_epochs=1,\n",
    "    logging_dir=\"./logs\",\n",
    "    logging_steps=10,\n",
    "    save_steps=500,\n",
    "    save_total_limit=2,\n",
    "    report_to=[],\n",
    "\n",
    ")\n",
    "\n",
    "# Trainer opzetten\n",
    "trainer = Trainer(\n",
    "    model=model,\n",
    "    args=training_args,\n",
    "    train_dataset=tokenized_dataset,\n",
    "    tokenizer=tokenizer,\n",
    "    data_collator=data_collator\n",
    ")\n",
    "\n",
    "# Training starten\n",
    "trainer.train()\n",
    "\n",
    "# Model opslaan\n",
    "model.save_pretrained(\"./t5summarizer\")\n",
    "tokenizer.save_pretrained(\"./t5summarizer\")\n"
   ]
  },
  {
   "cell_type": "markdown",
   "id": "cb77dc5f",
   "metadata": {},
   "source": [
    "**Uitleg:**  \n",
    "Deze cel:\n",
    "- Herhaalt het tokeniseren van de dataset.\n",
    "- Stelt de `TrainingArguments` in, o.a.:\n",
    "  - `batch_size = 4`\n",
    "  - `epochs = 1`\n",
    "  - `learning_rate = 2e-5`\n",
    "- Maakt gebruik van `Trainer` om het model te trainen.\n",
    "- Slaat het getrainde model en tokenizer op in `./t5-summarizer`.\n",
    "\n"
   ]
  },
  {
   "cell_type": "markdown",
   "id": "8a63a0e6",
   "metadata": {},
   "source": [
    "## T5-Long"
   ]
  },
  {
   "cell_type": "code",
   "execution_count": null,
   "id": "38f4acd5",
   "metadata": {},
   "outputs": [
    {
     "name": "stderr",
     "output_type": "stream",
     "text": [
      "c:\\Users\\Mark\\Documents\\School\\ADS\\datalab5\\Datalab-lectoraat\\.venv\\Lib\\site-packages\\huggingface_hub\\file_download.py:143: UserWarning: `huggingface_hub` cache-system uses symlinks by default to efficiently store duplicated files but your machine does not support them in C:\\Users\\Mark\\.cache\\huggingface\\hub\\models--google--long-t5-tglobal-base. Caching files will still work but in a degraded version that might require more space on your disk. This warning can be disabled by setting the `HF_HUB_DISABLE_SYMLINKS_WARNING` environment variable. For more details, see https://huggingface.co/docs/huggingface_hub/how-to-cache#limitations.\n",
      "To support symlinks on Windows, you either need to activate Developer Mode or to run Python as an administrator. In order to activate developer mode, see this article: https://docs.microsoft.com/en-us/windows/apps/get-started/enable-your-device-for-development\n",
      "  warnings.warn(message)\n",
      "You are using a model of type longt5 to instantiate a model of type t5. This is not supported for all configurations of models and can yield errors.\n",
      "Some weights of T5ForConditionalGeneration were not initialized from the model checkpoint at google/long-t5-tglobal-base and are newly initialized: ['encoder.block.0.layer.0.SelfAttention.k.weight', 'encoder.block.0.layer.0.SelfAttention.o.weight', 'encoder.block.0.layer.0.SelfAttention.q.weight', 'encoder.block.0.layer.0.SelfAttention.relative_attention_bias.weight', 'encoder.block.0.layer.0.SelfAttention.v.weight', 'encoder.block.1.layer.0.SelfAttention.k.weight', 'encoder.block.1.layer.0.SelfAttention.o.weight', 'encoder.block.1.layer.0.SelfAttention.q.weight', 'encoder.block.1.layer.0.SelfAttention.v.weight', 'encoder.block.10.layer.0.SelfAttention.k.weight', 'encoder.block.10.layer.0.SelfAttention.o.weight', 'encoder.block.10.layer.0.SelfAttention.q.weight', 'encoder.block.10.layer.0.SelfAttention.v.weight', 'encoder.block.11.layer.0.SelfAttention.k.weight', 'encoder.block.11.layer.0.SelfAttention.o.weight', 'encoder.block.11.layer.0.SelfAttention.q.weight', 'encoder.block.11.layer.0.SelfAttention.v.weight', 'encoder.block.2.layer.0.SelfAttention.k.weight', 'encoder.block.2.layer.0.SelfAttention.o.weight', 'encoder.block.2.layer.0.SelfAttention.q.weight', 'encoder.block.2.layer.0.SelfAttention.v.weight', 'encoder.block.3.layer.0.SelfAttention.k.weight', 'encoder.block.3.layer.0.SelfAttention.o.weight', 'encoder.block.3.layer.0.SelfAttention.q.weight', 'encoder.block.3.layer.0.SelfAttention.v.weight', 'encoder.block.4.layer.0.SelfAttention.k.weight', 'encoder.block.4.layer.0.SelfAttention.o.weight', 'encoder.block.4.layer.0.SelfAttention.q.weight', 'encoder.block.4.layer.0.SelfAttention.v.weight', 'encoder.block.5.layer.0.SelfAttention.k.weight', 'encoder.block.5.layer.0.SelfAttention.o.weight', 'encoder.block.5.layer.0.SelfAttention.q.weight', 'encoder.block.5.layer.0.SelfAttention.v.weight', 'encoder.block.6.layer.0.SelfAttention.k.weight', 'encoder.block.6.layer.0.SelfAttention.o.weight', 'encoder.block.6.layer.0.SelfAttention.q.weight', 'encoder.block.6.layer.0.SelfAttention.v.weight', 'encoder.block.7.layer.0.SelfAttention.k.weight', 'encoder.block.7.layer.0.SelfAttention.o.weight', 'encoder.block.7.layer.0.SelfAttention.q.weight', 'encoder.block.7.layer.0.SelfAttention.v.weight', 'encoder.block.8.layer.0.SelfAttention.k.weight', 'encoder.block.8.layer.0.SelfAttention.o.weight', 'encoder.block.8.layer.0.SelfAttention.q.weight', 'encoder.block.8.layer.0.SelfAttention.v.weight', 'encoder.block.9.layer.0.SelfAttention.k.weight', 'encoder.block.9.layer.0.SelfAttention.o.weight', 'encoder.block.9.layer.0.SelfAttention.q.weight', 'encoder.block.9.layer.0.SelfAttention.v.weight']\n",
      "You should probably TRAIN this model on a down-stream task to be able to use it for predictions and inference.\n",
      "Map: 100%|██████████| 10/10 [00:00<00:00, 34.60 examples/s]\n",
      "C:\\Users\\Mark\\AppData\\Local\\Temp\\ipykernel_5776\\1634593784.py:39: FutureWarning: `tokenizer` is deprecated and will be removed in version 5.0.0 for `Trainer.__init__`. Use `processing_class` instead.\n",
      "  trainer = Trainer(\n"
     ]
    },
    {
     "data": {
      "text/html": [
       "\n",
       "    <div>\n",
       "      \n",
       "      <progress value='3' max='3' style='width:300px; height:20px; vertical-align: middle;'></progress>\n",
       "      [3/3 00:03, Epoch 1/1]\n",
       "    </div>\n",
       "    <table border=\"1\" class=\"dataframe\">\n",
       "  <thead>\n",
       " <tr style=\"text-align: left;\">\n",
       "      <th>Step</th>\n",
       "      <th>Training Loss</th>\n",
       "    </tr>\n",
       "  </thead>\n",
       "  <tbody>\n",
       "  </tbody>\n",
       "</table><p>"
      ],
      "text/plain": [
       "<IPython.core.display.HTML object>"
      ]
     },
     "metadata": {},
     "output_type": "display_data"
    },
    {
     "data": {
      "text/plain": [
       "('./long-t5-summarizer\\\\tokenizer_config.json',\n",
       " './long-t5-summarizer\\\\special_tokens_map.json',\n",
       " './long-t5-summarizer\\\\spiece.model',\n",
       " './long-t5-summarizer\\\\added_tokens.json')"
      ]
     },
     "execution_count": 7,
     "metadata": {},
     "output_type": "execute_result"
    }
   ],
   "source": [
    "from transformers import T5Tokenizer, T5ForConditionalGeneration, TrainingArguments, Trainer, DataCollatorForSeq2Seq\n",
    "\n",
    "\n",
    "\n",
    "# Model en tokenizer laden\n",
    "model_name = \"google/long-t5-tglobal-base\"\n",
    "tokenizer = T5Tokenizer.from_pretrained(model_name)\n",
    "model = T5ForConditionalGeneration.from_pretrained(model_name)\n",
    "\n",
    "# Preprocessing-functie\n",
    "def preprocess_function(example):\n",
    "    input_text = \"summarize: \" + example[\"chat\"]\n",
    "    model_inputs = tokenizer(input_text, max_length=512, truncation=True, padding=\"max_length\")\n",
    "\n",
    "    labels = tokenizer(example[\"summary\"], max_length=64, truncation=True, padding=\"max_length\")\n",
    "    model_inputs[\"labels\"] = labels[\"input_ids\"]\n",
    "    return model_inputs\n",
    "\n",
    "tokenized_dataset = dataset.map(preprocess_function)\n",
    "\n",
    "# Data collator\n",
    "data_collator = DataCollatorForSeq2Seq(tokenizer=tokenizer, model=model)\n",
    "\n",
    "# Training parameters\n",
    "training_args = TrainingArguments(\n",
    "    output_dir=\"./longt5summarizer\",\n",
    "    per_device_train_batch_size=1,\n",
    "    gradient_accumulation_steps=4,    \n",
    "    num_train_epochs=1,\n",
    "    logging_dir=\"./logs\",\n",
    "    logging_steps=10,\n",
    "    save_steps=500,\n",
    "    save_total_limit=2,\n",
    "    report_to=[],\n",
    "    fp16=True,\n",
    ")\n",
    "\n",
    "# Trainer opzetten\n",
    "trainer = Trainer(\n",
    "    model=model,\n",
    "    args=training_args,\n",
    "    train_dataset=tokenized_dataset,\n",
    "    tokenizer=tokenizer,\n",
    "    data_collator=data_collator\n",
    ")\n",
    "\n",
    "# Training starten\n",
    "trainer.train()\n",
    "\n",
    "# Model opslaan\n",
    "model.save_pretrained(\"./longt5summarizer\")\n",
    "tokenizer.save_pretrained(\"./longt5summarizer\")\n"
   ]
  },
  {
   "cell_type": "markdown",
   "id": "b3234170",
   "metadata": {},
   "source": [
    "**Uitleg:**  \n",
    "Deze cel:\n",
    "- Herhaalt het tokeniseren van de dataset.\n",
    "- Stelt de `TrainingArguments` in, o.a.:\n",
    "  - `batch_size = 4`\n",
    "  - `epochs = 1`\n",
    "  - `learning_rate = 2e-5`\n",
    "- Maakt gebruik van `Trainer` om het model te trainen.\n",
    "- Slaat het getrainde model en tokenizer op in `./long-t5-summarizer`."
   ]
  },
  {
   "cell_type": "markdown",
   "id": "f2c7aaf0",
   "metadata": {},
   "source": [
    "## T5-Flan"
   ]
  },
  {
   "cell_type": "code",
   "execution_count": null,
   "id": "c3b28ef7",
   "metadata": {},
   "outputs": [
    {
     "name": "stderr",
     "output_type": "stream",
     "text": [
      "Map: 100%|██████████| 10/10 [00:00<00:00, 34.35 examples/s]\n",
      "C:\\Users\\Mark\\AppData\\Local\\Temp\\ipykernel_5776\\3768459877.py:38: FutureWarning: `tokenizer` is deprecated and will be removed in version 5.0.0 for `Trainer.__init__`. Use `processing_class` instead.\n",
      "  trainer = Trainer(\n"
     ]
    },
    {
     "data": {
      "text/html": [
       "\n",
       "    <div>\n",
       "      \n",
       "      <progress value='3' max='3' style='width:300px; height:20px; vertical-align: middle;'></progress>\n",
       "      [3/3 00:03, Epoch 1/1]\n",
       "    </div>\n",
       "    <table border=\"1\" class=\"dataframe\">\n",
       "  <thead>\n",
       " <tr style=\"text-align: left;\">\n",
       "      <th>Step</th>\n",
       "      <th>Training Loss</th>\n",
       "    </tr>\n",
       "  </thead>\n",
       "  <tbody>\n",
       "  </tbody>\n",
       "</table><p>"
      ],
      "text/plain": [
       "<IPython.core.display.HTML object>"
      ]
     },
     "metadata": {},
     "output_type": "display_data"
    },
    {
     "data": {
      "text/plain": [
       "('./flan-t5-summarizer\\\\tokenizer_config.json',\n",
       " './flan-t5-summarizer\\\\special_tokens_map.json',\n",
       " './flan-t5-summarizer\\\\spiece.model',\n",
       " './flan-t5-summarizer\\\\added_tokens.json')"
      ]
     },
     "execution_count": 8,
     "metadata": {},
     "output_type": "execute_result"
    }
   ],
   "source": [
    "from transformers import T5Tokenizer, T5ForConditionalGeneration, TrainingArguments, Trainer, DataCollatorForSeq2Seq\n",
    "\n",
    "\n",
    "# Model en tokenizer laden\n",
    "model_name = \"google/flan-t5-base\"\n",
    "tokenizer = T5Tokenizer.from_pretrained(model_name)\n",
    "model = T5ForConditionalGeneration.from_pretrained(model_name)\n",
    "\n",
    "# Preprocessing-functie\n",
    "def preprocess_function(example):\n",
    "    input_text = \"summarize: \" + example[\"chat\"]\n",
    "    model_inputs = tokenizer(input_text, max_length=512, truncation=True, padding=\"max_length\")\n",
    "\n",
    "    labels = tokenizer(example[\"summary\"], max_length=64, truncation=True, padding=\"max_length\")\n",
    "    model_inputs[\"labels\"] = labels[\"input_ids\"]\n",
    "    return model_inputs\n",
    "\n",
    "tokenized_dataset = dataset.map(preprocess_function)\n",
    "\n",
    "# Data collator\n",
    "data_collator = DataCollatorForSeq2Seq(tokenizer=tokenizer, model=model)\n",
    "\n",
    "# Training parameters\n",
    "training_args = TrainingArguments(\n",
    "    output_dir=\"./flant5summarizer\",\n",
    "    per_device_train_batch_size=4,\n",
    "    num_train_epochs=1,\n",
    "    logging_dir=\"./logs\",\n",
    "    logging_steps=10,\n",
    "    save_steps=500,\n",
    "    save_total_limit=2,\n",
    "    report_to=[],\n",
    "    fp16=True,\n",
    "\n",
    ")\n",
    "\n",
    "# Trainer opzetten\n",
    "trainer = Trainer(\n",
    "    model=model,\n",
    "    args=training_args,\n",
    "    train_dataset=tokenized_dataset,\n",
    "    tokenizer=tokenizer,\n",
    "    data_collator=data_collator\n",
    ")\n",
    "\n",
    "# Training starten\n",
    "trainer.train()\n",
    "\n",
    "# Model opslaan\n",
    "model.save_pretrained(\"./flant5summarizer\")\n",
    "tokenizer.save_pretrained(\"./flant5summarizer\")\n"
   ]
  },
  {
   "cell_type": "markdown",
   "id": "ecf55f77",
   "metadata": {},
   "source": [
    "**Uitleg:**  \n",
    "Deze cel:\n",
    "- Herhaalt het tokeniseren van de dataset.\n",
    "- Stelt de `TrainingArguments` in, o.a.:\n",
    "  - `batch_size = 4`\n",
    "  - `epochs = 1`\n",
    "  - `learning_rate = 2e-5`\n",
    "- Maakt gebruik van `Trainer` om het model te trainen.\n",
    "- Slaat het getrainde model en tokenizer op in `./flan-t5-summarizer`.\n",
    "\n"
   ]
  },
  {
   "cell_type": "markdown",
   "id": "796db99a",
   "metadata": {},
   "source": [
    "## PEGASUS"
   ]
  },
  {
   "cell_type": "code",
   "execution_count": null,
   "id": "8b220004",
   "metadata": {},
   "outputs": [
    {
     "name": "stderr",
     "output_type": "stream",
     "text": [
      "c:\\Users\\Mark\\Documents\\School\\ADS\\datalab5\\Datalab-lectoraat\\.venv\\Lib\\site-packages\\huggingface_hub\\file_download.py:143: UserWarning: `huggingface_hub` cache-system uses symlinks by default to efficiently store duplicated files but your machine does not support them in C:\\Users\\Mark\\.cache\\huggingface\\hub\\models--google--pegasus-xsum. Caching files will still work but in a degraded version that might require more space on your disk. This warning can be disabled by setting the `HF_HUB_DISABLE_SYMLINKS_WARNING` environment variable. For more details, see https://huggingface.co/docs/huggingface_hub/how-to-cache#limitations.\n",
      "To support symlinks on Windows, you either need to activate Developer Mode or to run Python as an administrator. In order to activate developer mode, see this article: https://docs.microsoft.com/en-us/windows/apps/get-started/enable-your-device-for-development\n",
      "  warnings.warn(message)\n",
      "Some weights of PegasusForConditionalGeneration were not initialized from the model checkpoint at google/pegasus-xsum and are newly initialized: ['model.decoder.embed_positions.weight', 'model.encoder.embed_positions.weight']\n",
      "You should probably TRAIN this model on a down-stream task to be able to use it for predictions and inference.\n",
      "Map: 100%|██████████| 10/10 [00:00<00:00, 36.76 examples/s]\n",
      "C:\\Users\\Mark\\AppData\\Local\\Temp\\ipykernel_5776\\728824005.py:37: FutureWarning: `tokenizer` is deprecated and will be removed in version 5.0.0 for `Trainer.__init__`. Use `processing_class` instead.\n",
      "  trainer = Trainer(\n"
     ]
    },
    {
     "data": {
      "text/html": [
       "\n",
       "    <div>\n",
       "      \n",
       "      <progress value='3' max='3' style='width:300px; height:20px; vertical-align: middle;'></progress>\n",
       "      [3/3 00:15, Epoch 1/1]\n",
       "    </div>\n",
       "    <table border=\"1\" class=\"dataframe\">\n",
       "  <thead>\n",
       " <tr style=\"text-align: left;\">\n",
       "      <th>Step</th>\n",
       "      <th>Training Loss</th>\n",
       "    </tr>\n",
       "  </thead>\n",
       "  <tbody>\n",
       "  </tbody>\n",
       "</table><p>"
      ],
      "text/plain": [
       "<IPython.core.display.HTML object>"
      ]
     },
     "metadata": {},
     "output_type": "display_data"
    },
    {
     "name": "stderr",
     "output_type": "stream",
     "text": [
      "c:\\Users\\Mark\\Documents\\School\\ADS\\datalab5\\Datalab-lectoraat\\.venv\\Lib\\site-packages\\transformers\\modeling_utils.py:3465: UserWarning: Moving the following attributes in the config to the generation config: {'max_length': 64, 'num_beams': 8, 'length_penalty': 0.6}. You are seeing this warning because you've set generation parameters in the model config, as opposed to in the generation config.\n",
      "  warnings.warn(\n"
     ]
    },
    {
     "data": {
      "text/plain": [
       "('./pegasus-summarizer\\\\tokenizer_config.json',\n",
       " './pegasus-summarizer\\\\special_tokens_map.json',\n",
       " './pegasus-summarizer\\\\spiece.model',\n",
       " './pegasus-summarizer\\\\added_tokens.json')"
      ]
     },
     "execution_count": 9,
     "metadata": {},
     "output_type": "execute_result"
    }
   ],
   "source": [
    "from transformers import PegasusForConditionalGeneration, PegasusTokenizer\n",
    "\n",
    "# Model en tokenizer laden\n",
    "model_name = \"google/pegasus-xsum\"\n",
    "tokenizer = PegasusTokenizer.from_pretrained(model_name)\n",
    "model = PegasusForConditionalGeneration.from_pretrained(model_name)\n",
    "\n",
    "# Preprocessing-functie\n",
    "def preprocess_function(example):\n",
    "    input_text = \"summarize: \" + example[\"chat\"]\n",
    "    model_inputs = tokenizer(input_text, max_length=512, truncation=True, padding=\"max_length\")\n",
    "\n",
    "    labels = tokenizer(example[\"summary\"], max_length=64, truncation=True, padding=\"max_length\")\n",
    "    model_inputs[\"labels\"] = labels[\"input_ids\"]\n",
    "    return model_inputs\n",
    "\n",
    "tokenized_dataset = dataset.map(preprocess_function)\n",
    "\n",
    "# Data collator\n",
    "data_collator = DataCollatorForSeq2Seq(tokenizer=tokenizer, model=model)\n",
    "\n",
    "# Training parameters\n",
    "training_args = TrainingArguments(\n",
    "    output_dir=\"./pegasussummarizer\",\n",
    "    per_device_train_batch_size=4,\n",
    "    num_train_epochs=1,\n",
    "    logging_dir=\"./logs\",\n",
    "    logging_steps=10,\n",
    "    save_steps=500,\n",
    "    save_total_limit=2,\n",
    "    report_to=[],\n",
    "    fp16=True,\n",
    "\n",
    ")\n",
    "\n",
    "# Trainer opzetten\n",
    "trainer = Trainer(\n",
    "    model=model,\n",
    "    args=training_args,\n",
    "    train_dataset=tokenized_dataset,\n",
    "    tokenizer=tokenizer,\n",
    "    data_collator=data_collator\n",
    ")\n",
    "\n",
    "# Training starten\n",
    "trainer.train()\n",
    "\n",
    "# Model opslaan\n",
    "model.save_pretrained(\"./pegasussummarizer\")\n",
    "tokenizer.save_pretrained(\"./pegasussummarizer\")\n"
   ]
  },
  {
   "cell_type": "markdown",
   "id": "7f2ecd4c",
   "metadata": {},
   "source": [
    "**Uitleg:**  \n",
    "Deze cel:\n",
    "- Herhaalt het tokeniseren van de dataset (indien nog niet gebeurd).\n",
    "- Stelt de `TrainingArguments` in, o.a.:\n",
    "  - `batch_size = 4`\n",
    "  - `epochs = 1`\n",
    "  - `learning_rate = 2e-5`\n",
    "- Maakt gebruik van `Trainer` om het model te trainen.\n",
    "- Slaat het getrainde model en tokenizer op in `./pegasus-summarizer`.\n"
   ]
  },
  {
   "cell_type": "markdown",
   "id": "25f83064",
   "metadata": {},
   "source": [
    "## LED"
   ]
  },
  {
   "cell_type": "code",
   "execution_count": null,
   "id": "0720e2b3",
   "metadata": {},
   "outputs": [
    {
     "name": "stderr",
     "output_type": "stream",
     "text": [
      "c:\\Users\\Mark\\Documents\\School\\ADS\\datalab5\\Datalab-lectoraat\\.venv\\Lib\\site-packages\\huggingface_hub\\file_download.py:143: UserWarning: `huggingface_hub` cache-system uses symlinks by default to efficiently store duplicated files but your machine does not support them in C:\\Users\\Mark\\.cache\\huggingface\\hub\\models--allenai--led-base-16384. Caching files will still work but in a degraded version that might require more space on your disk. This warning can be disabled by setting the `HF_HUB_DISABLE_SYMLINKS_WARNING` environment variable. For more details, see https://huggingface.co/docs/huggingface_hub/how-to-cache#limitations.\n",
      "To support symlinks on Windows, you either need to activate Developer Mode or to run Python as an administrator. In order to activate developer mode, see this article: https://docs.microsoft.com/en-us/windows/apps/get-started/enable-your-device-for-development\n",
      "  warnings.warn(message)\n",
      "Xet Storage is enabled for this repo, but the 'hf_xet' package is not installed. Falling back to regular HTTP download. For better performance, install the package with: `pip install huggingface_hub[hf_xet]` or `pip install hf_xet`\n",
      "Map:  70%|███████   | 7/10 [00:00<00:00, 60.87 examples/s]Xet Storage is enabled for this repo, but the 'hf_xet' package is not installed. Falling back to regular HTTP download. For better performance, install the package with: `pip install huggingface_hub[hf_xet]` or `pip install hf_xet`\n",
      "Map: 100%|██████████| 10/10 [00:00<00:00, 44.64 examples/s]\n",
      "C:\\Users\\Mark\\AppData\\Local\\Temp\\ipykernel_5776\\3544440166.py:38: FutureWarning: `tokenizer` is deprecated and will be removed in version 5.0.0 for `Trainer.__init__`. Use `processing_class` instead.\n",
      "  trainer = Trainer(\n",
      "Input ids are automatically padded from 512 to 1024 to be a multiple of `config.attention_window`: 1024\n"
     ]
    },
    {
     "data": {
      "text/html": [
       "\n",
       "    <div>\n",
       "      \n",
       "      <progress value='3' max='3' style='width:300px; height:20px; vertical-align: middle;'></progress>\n",
       "      [3/3 00:04, Epoch 1/1]\n",
       "    </div>\n",
       "    <table border=\"1\" class=\"dataframe\">\n",
       "  <thead>\n",
       " <tr style=\"text-align: left;\">\n",
       "      <th>Step</th>\n",
       "      <th>Training Loss</th>\n",
       "    </tr>\n",
       "  </thead>\n",
       "  <tbody>\n",
       "  </tbody>\n",
       "</table><p>"
      ],
      "text/plain": [
       "<IPython.core.display.HTML object>"
      ]
     },
     "metadata": {},
     "output_type": "display_data"
    },
    {
     "data": {
      "text/plain": [
       "('./longformer-summarizer\\\\tokenizer_config.json',\n",
       " './longformer-summarizer\\\\special_tokens_map.json',\n",
       " './longformer-summarizer\\\\vocab.json',\n",
       " './longformer-summarizer\\\\merges.txt',\n",
       " './longformer-summarizer\\\\added_tokens.json',\n",
       " './longformer-summarizer\\\\tokenizer.json')"
      ]
     },
     "execution_count": 10,
     "metadata": {},
     "output_type": "execute_result"
    }
   ],
   "source": [
    "from transformers import AutoTokenizer, AutoModelForSeq2SeqLM\n",
    "\n",
    "\n",
    "# Model en tokenizer laden\n",
    "model_name = \"allenai/led-base-16384\"\n",
    "tokenizer = AutoTokenizer.from_pretrained(model_name)\n",
    "model = AutoModelForSeq2SeqLM.from_pretrained(model_name)\n",
    "\n",
    "# Preprocessing-functie\n",
    "def preprocess_function(example):\n",
    "    input_text = \"summarize: \" + example[\"chat\"]\n",
    "    model_inputs = tokenizer(input_text, max_length=512, truncation=True, padding=\"max_length\")\n",
    "\n",
    "    labels = tokenizer(example[\"summary\"], max_length=64, truncation=True, padding=\"max_length\")\n",
    "    model_inputs[\"labels\"] = labels[\"input_ids\"]\n",
    "    return model_inputs\n",
    "\n",
    "tokenized_dataset = dataset.map(preprocess_function)\n",
    "\n",
    "# Data collator\n",
    "data_collator = DataCollatorForSeq2Seq(tokenizer=tokenizer, model=model)\n",
    "\n",
    "# Training parameters\n",
    "training_args = TrainingArguments(\n",
    "    output_dir=\"./longformersummarizer\",\n",
    "    per_device_train_batch_size=4,\n",
    "    num_train_epochs=1,\n",
    "    logging_dir=\"./logs\",\n",
    "    logging_steps=10,\n",
    "    save_steps=500,\n",
    "    save_total_limit=2,\n",
    "    report_to=[],\n",
    "    fp16=True,\n",
    "\n",
    ")\n",
    "\n",
    "# Trainer opzetten\n",
    "trainer = Trainer(\n",
    "    model=model,\n",
    "    args=training_args,\n",
    "    train_dataset=tokenized_dataset,\n",
    "    tokenizer=tokenizer,\n",
    "    data_collator=data_collator\n",
    ")\n",
    "\n",
    "# Training starten\n",
    "trainer.train()\n",
    "\n",
    "# Model opslaan\n",
    "model.save_pretrained(\"./longformersummarizer\")\n",
    "tokenizer.save_pretrained(\"./longformersummarizer\")\n"
   ]
  },
  {
   "cell_type": "markdown",
   "id": "b0214cbd",
   "metadata": {},
   "source": [
    "\n",
    "**Uitleg:**  \n",
    "Deze cel:\n",
    "- Herhaalt het tokeniseren van de dataset (indien nog niet gebeurd).\n",
    "- Stelt de `TrainingArguments` in, o.a.:\n",
    "  - `batch_size = 4`\n",
    "  - `epochs = 1`\n",
    "  - `learning_rate = 2e-5`\n",
    "- Maakt gebruik van `Trainer` om het model te trainen.\n",
    "- Slaat het getrainde model en tokenizer op in `./longformer-summarizer`.\n",
    "\n"
   ]
  },
  {
   "cell_type": "markdown",
   "id": "b43f5169",
   "metadata": {},
   "source": [
    "# Evaluatie\n",
    "\n",
    "In dit deel van de notebook gaan we kijken welke van onze modellen het best presteerd op een kleine evaluatie dataset.\n",
    "\n",
    "Eerst bereken we de ROUGE scoren op een heel simpel dataset. Daarna kijken we zelf met een iets ingewikkeldere chat welke samenvatting van de best scorende model wij beter vinden."
   ]
  },
  {
   "cell_type": "code",
   "execution_count": 11,
   "id": "a82efed8",
   "metadata": {},
   "outputs": [],
   "source": [
    "from datasets import Dataset\n",
    "\n",
    "test_data = Dataset.from_dict({\n",
    "    \"chat\": [\n",
    "        \"Hoi allemaal! Ze willen windmolens bouwen buiten het dorp. Wat vinden jullie? Er zijn zorgen over geluidsoverlast en impact op het landschap.\",\n",
    "        \"We hebben een bijeenkomst gepland over het nieuwe buurthuis. Mensen willen weten of er genoeg budget is en hoe de planning eruitziet.\"\n",
    "    ],\n",
    "    \"summary\": [\n",
    "        \"Er is discussie over de bouw van windmolens buiten het dorp, met zorgen over geluid en landschap.\",\n",
    "        \"Er komt een bijeenkomst over het buurthuis, met vragen over budget en planning.\"\n",
    "    ]\n",
    "})\n"
   ]
  },
  {
   "cell_type": "code",
   "execution_count": 12,
   "id": "acc806df",
   "metadata": {},
   "outputs": [],
   "source": [
    "sumary = \"Buurtbewoners bespreken het plan voor een nieuw parkeerterrein aan de dorpsrand. Arthur en Koen vinden extra parkeerplaatsen positief, maar Fatima maakt zich zorgen over de nabijheid van het speelveldje. Linda vreest voor het uitzicht vanuit haar woning. Peter meldt dat het een groen terrein wordt met bomen, wat positief ontvangen wordt. Koen wijst erop dat het aantal plekken teruggaat van 60 naar 45 om ruimte te maken voor groen. Fatima en Linda stellen voor een groenstrook aan te leggen tussen het speelveld en het parkeerterrein, voor veiligheid en minder zicht. Linda wil dat de gemeente een visualisatie deelt, en Peter stelt voor mee te denken over de inrichting. Allen zijn het erover eens dat bewoners betrokken moeten worden bij de plannen en gezamenlijk suggesties aan de gemeente moeten doen.\"\n"
   ]
  },
  {
   "cell_type": "code",
   "execution_count": 16,
   "id": "6af9cdae",
   "metadata": {},
   "outputs": [
    {
     "name": "stdout",
     "output_type": "stream",
     "text": [
      "\n",
      "Evaluating: ./bart-summarizer\n"
     ]
    },
    {
     "name": "stderr",
     "output_type": "stream",
     "text": [
      "Device set to use cuda:0\n",
      "Your max_length is set to 248, but your input_length is only 52. Since this is a summarization task, where outputs shorter than the input are typically wanted, you might consider decreasing max_length manually, e.g. summarizer('...', max_length=26)\n",
      "Both `max_new_tokens` (=256) and `max_length`(=248) seem to have been set. `max_new_tokens` will take precedence. Please refer to the documentation for more information. (https://huggingface.co/docs/transformers/main/en/main_classes/text_generation)\n",
      "Your max_length is set to 248, but your input_length is only 51. Since this is a summarization task, where outputs shorter than the input are typically wanted, you might consider decreasing max_length manually, e.g. summarizer('...', max_length=25)\n",
      "Both `max_new_tokens` (=256) and `max_length`(=248) seem to have been set. `max_new_tokens` will take precedence. Please refer to the documentation for more information. (https://huggingface.co/docs/transformers/main/en/main_classes/text_generation)\n"
     ]
    },
    {
     "name": "stdout",
     "output_type": "stream",
     "text": [
      "Prediction: Hoi allemaal! Ze willen windmolens bouwen buiten het dorp. Wat vinden jullie? Er zijn zorgen over geluidsoverlast en impact op het landschap.\n",
      "Prediction: We hebben een bijeenkomst gepland over het nieuwe buurthuis. Mensen willen weten of er genoeg budget is en hoe de planning eruitziet.\n",
      "\n",
      "Evaluating: ./long-t5-summarizer\n"
     ]
    },
    {
     "name": "stderr",
     "output_type": "stream",
     "text": [
      "Device set to use cuda:0\n",
      "Your max_length is set to 248, but your input_length is only 66. Since this is a summarization task, where outputs shorter than the input are typically wanted, you might consider decreasing max_length manually, e.g. summarizer('...', max_length=33)\n",
      "Both `max_new_tokens` (=256) and `max_length`(=248) seem to have been set. `max_new_tokens` will take precedence. Please refer to the documentation for more information. (https://huggingface.co/docs/transformers/main/en/main_classes/text_generation)\n",
      "Your max_length is set to 248, but your input_length is only 62. Since this is a summarization task, where outputs shorter than the input are typically wanted, you might consider decreasing max_length manually, e.g. summarizer('...', max_length=31)\n",
      "Both `max_new_tokens` (=256) and `max_length`(=248) seem to have been set. `max_new_tokens` will take precedence. Please refer to the documentation for more information. (https://huggingface.co/docs/transformers/main/en/main_classes/text_generation)\n"
     ]
    },
    {
     "name": "stdout",
     "output_type": "stream",
     "text": [
      "Prediction: t t t t t t t t t t t t t t t t t t t t t t t t t t t t t t t t t t t t t t t t t t t t t t t t t t t t t t t t t t t t t t t t t t t t t t t t t t t t t t t t t t t t t t t t t t t t t t t t t t t t t t t t t t t t t t t t t t t t t t t t t t t t t t t t\n",
      "Prediction: tet tet tet tet tet tet tet tet tet tet tet tet tet tet tet tet tet tet tet tet tet tet tet tet tet tet tet tet tet tet tet tet tet tet tet tet tet tet tet tet tet tet tet tet tet tet tet tet tet tet tet tet tet tet tet tet tet tet tet tet tet tet tet tet\n",
      "\n",
      "Evaluating: ./flan-t5-summarizer\n"
     ]
    },
    {
     "name": "stderr",
     "output_type": "stream",
     "text": [
      "Device set to use cuda:0\n",
      "Your max_length is set to 248, but your input_length is only 68. Since this is a summarization task, where outputs shorter than the input are typically wanted, you might consider decreasing max_length manually, e.g. summarizer('...', max_length=34)\n",
      "Both `max_new_tokens` (=256) and `max_length`(=248) seem to have been set. `max_new_tokens` will take precedence. Please refer to the documentation for more information. (https://huggingface.co/docs/transformers/main/en/main_classes/text_generation)\n",
      "Your max_length is set to 248, but your input_length is only 64. Since this is a summarization task, where outputs shorter than the input are typically wanted, you might consider decreasing max_length manually, e.g. summarizer('...', max_length=32)\n",
      "Both `max_new_tokens` (=256) and `max_length`(=248) seem to have been set. `max_new_tokens` will take precedence. Please refer to the documentation for more information. (https://huggingface.co/docs/transformers/main/en/main_classes/text_generation)\n"
     ]
    },
    {
     "name": "stdout",
     "output_type": "stream",
     "text": [
      "Prediction: Hoi allemaal! U wilen windmolens bouwen buiten het dorp. What do you find jullie? Er zorgen over geluidsoverlast et impact om landskap.\n",
      "Prediction: We hebben een bijeenkomst gepland over het nieuwe buurthuis, mensen willen weten of er genoeg budget is en hoe de planning eruenziet.\n",
      "\n",
      "Evaluating: ./longformer-summarizer\n"
     ]
    },
    {
     "name": "stderr",
     "output_type": "stream",
     "text": [
      "Device set to use cuda:0\n",
      "Your max_length is set to 248, but your input_length is only 52. Since this is a summarization task, where outputs shorter than the input are typically wanted, you might consider decreasing max_length manually, e.g. summarizer('...', max_length=26)\n",
      "Input ids are automatically padded from 52 to 1024 to be a multiple of `config.attention_window`: 1024\n",
      "Both `max_new_tokens` (=256) and `max_length`(=248) seem to have been set. `max_new_tokens` will take precedence. Please refer to the documentation for more information. (https://huggingface.co/docs/transformers/main/en/main_classes/text_generation)\n",
      "Your max_length is set to 248, but your input_length is only 51. Since this is a summarization task, where outputs shorter than the input are typically wanted, you might consider decreasing max_length manually, e.g. summarizer('...', max_length=25)\n",
      "Input ids are automatically padded from 51 to 1024 to be a multiple of `config.attention_window`: 1024\n",
      "Both `max_new_tokens` (=256) and `max_length`(=248) seem to have been set. `max_new_tokens` will take precedence. Please refer to the documentation for more information. (https://huggingface.co/docs/transformers/main/en/main_classes/text_generation)\n"
     ]
    },
    {
     "name": "stdout",
     "output_type": "stream",
     "text": [
      "Prediction: Hoi allemaal! Ze willen windmolens bouwen buiten het dorp. Wat vinden jullie? Er zijn zorgen over geluidsoverlast en impact op het landschap.\n",
      "Prediction: We hebben een bijeenkomst gepland over het nieuwe buurthuis. Mensen willen weten of er genoeg budget is en hoe de planning eruitziet.\n",
      "\n",
      "Evaluating: ./t5-summarizer\n"
     ]
    },
    {
     "name": "stderr",
     "output_type": "stream",
     "text": [
      "Device set to use cuda:0\n",
      "Your max_length is set to 248, but your input_length is only 68. Since this is a summarization task, where outputs shorter than the input are typically wanted, you might consider decreasing max_length manually, e.g. summarizer('...', max_length=34)\n",
      "Both `max_new_tokens` (=256) and `max_length`(=248) seem to have been set. `max_new_tokens` will take precedence. Please refer to the documentation for more information. (https://huggingface.co/docs/transformers/main/en/main_classes/text_generation)\n",
      "Your max_length is set to 248, but your input_length is only 64. Since this is a summarization task, where outputs shorter than the input are typically wanted, you might consider decreasing max_length manually, e.g. summarizer('...', max_length=32)\n",
      "Both `max_new_tokens` (=256) and `max_length`(=248) seem to have been set. `max_new_tokens` will take precedence. Please refer to the documentation for more information. (https://huggingface.co/docs/transformers/main/en/main_classes/text_generation)\n"
     ]
    },
    {
     "name": "stdout",
     "output_type": "stream",
     "text": [
      "Prediction: wat vinden jullie? Er zijn zorgen over geluidsoverlast en impact op het landschap.\n",
      "Prediction: we hebben een bijeenkomst gepland over het nieuwe buurthuis . mensen willen weten of er genoeg budget is en hoe de planning .\n",
      "\n",
      "Evaluating: ./pegasus-summarizer\n"
     ]
    },
    {
     "name": "stderr",
     "output_type": "stream",
     "text": [
      "Device set to use cuda:0\n",
      "Your max_length is set to 248, but your input_length is only 46. Since this is a summarization task, where outputs shorter than the input are typically wanted, you might consider decreasing max_length manually, e.g. summarizer('...', max_length=23)\n",
      "Passing a tuple of `past_key_values` is deprecated and will be removed in Transformers v4.58.0. You should pass an instance of `EncoderDecoderCache` instead, e.g. `past_key_values=EncoderDecoderCache.from_legacy_cache(past_key_values)`.\n",
      "Your max_length is set to 248, but your input_length is only 47. Since this is a summarization task, where outputs shorter than the input are typically wanted, you might consider decreasing max_length manually, e.g. summarizer('...', max_length=23)\n"
     ]
    },
    {
     "name": "stdout",
     "output_type": "stream",
     "text": [
      "Prediction: Het landschap is er onderzoeker aan de eerste aan de eerste aan de eerste aan de eerste aan de eerste aan de eerste aan de eerste aan de eerste aan de eerste aan de eerste aan de eerste aan de eerste aan de eerste aan de eerste aan de eerste aan de eerste aan de eerste aan de eerste aan de eerste aan de eerste aan de eerste aan de eerste aan de eerste aan de eerste aan de eerste aan de eerste aan de eerste aan de eerste aan de eerste aan de eerste aan de eerste aan de eerste aan de eerste aan de eerste aan de eerste aan de eerste aan de eerste aan de eerste aan de eerste a\n",
      "Prediction: Het nieuwe buurthuis weten ereg budget en eruitziet.\n",
      "\n",
      "=== ROUGE Vergelijking ===\n",
      "                  model  rouge1  rouge2  rougeL  rougeLsum\n",
      "      ./bart-summarizer  0.4879  0.1417  0.4337     0.4337\n",
      "   ./long-t5-summarizer  0.0000  0.0000  0.0000     0.0000\n",
      "   ./flan-t5-summarizer  0.4366  0.1417  0.3824     0.3824\n",
      "./longformer-summarizer  0.4879  0.1417  0.4337     0.4337\n",
      "        ./t5-summarizer  0.4647  0.0982  0.4020     0.4020\n",
      "   ./pegasus-summarizer  0.2262  0.0526  0.2048     0.2048\n"
     ]
    }
   ],
   "source": [
    "import json\n",
    "import pandas as pd\n",
    "from transformers import AutoTokenizer, AutoModelForSeq2SeqLM, pipeline\n",
    "import evaluate\n",
    "\n",
    "conversations = test_data\n",
    "\n",
    "\n",
    "rouge = evaluate.load(\"rouge\")\n",
    "results = []\n",
    "\n",
    "model_paths = [\n",
    "    \"./bart-summarizer\",\n",
    "    \"./long-t5-summarizer\",\n",
    "    \"./flan-t5-summarizer\",\n",
    "    \"./longformer-summarizer\",\n",
    "    \"./t5-summarizer\",\n",
    "    \"./pegasus-summarizer\",\n",
    "]\n",
    "\n",
    "for model_path in model_paths:\n",
    "    print(f\"\\nEvaluating: {model_path}\")\n",
    "    \n",
    "    tokenizer = AutoTokenizer.from_pretrained(model_path)\n",
    "    model = AutoModelForSeq2SeqLM.from_pretrained(model_path)\n",
    "\n",
    "    summarizer = pipeline(\"summarization\", model=model, tokenizer=tokenizer)\n",
    "\n",
    "    predictions = [\n",
    "        summarizer(conversation_text, max_length=248, min_length=10, do_sample=False)[0][\"summary_text\"]\n",
    "        for conversation_text in conversations[\"chat\"]\n",
    "    ]\n",
    "\n",
    "    for pred in predictions[:5]:\n",
    "        print(f\"Prediction: {pred}\")\n",
    "\n",
    "    scores = rouge.compute(predictions=predictions, references=conversations[\"summary\"])\n",
    "    results.append({\n",
    "        \"model\": model_path,\n",
    "        \"rouge1\": round(scores[\"rouge1\"], 4),\n",
    "        \"rouge2\": round(scores[\"rouge2\"], 4),\n",
    "        \"rougeL\": round(scores[\"rougeL\"], 4),\n",
    "        \"rougeLsum\": round(scores[\"rougeLsum\"], 4)\n",
    "    })\n",
    "\n",
    "# Resultaten tonen\n",
    "df_results = pd.DataFrame(results)\n",
    "print(\"\\n=== ROUGE Vergelijking ===\")\n",
    "print(df_results.to_string(index=False))\n"
   ]
  },
  {
   "cell_type": "markdown",
   "id": "90d7fdd3",
   "metadata": {},
   "source": [
    "**Uitleg:**  \n",
    "Deze code:\n",
    "- Laadt een BART-samenvattingsmodel (`bart-large-cnn-samsum`) en bijbehorende tokenizer.\n",
    "- Verwerkt JSON-chatdata per `topic_id`, combineert tekst tot één document per onderwerp.\n",
    "- Splits lange documenten op in chunks die passen in het model (minder dan `MAX_INPUT_LENGTH` tokens).\n",
    "- Genereert per chunk een samenvatting en combineert deze.\n",
    "- Slaat alles op als `.jsonl`-bestand waarin elke regel een samenvatting bevat."
   ]
  },
  {
   "cell_type": "code",
   "execution_count": 17,
   "id": "64bb80b2",
   "metadata": {},
   "outputs": [
    {
     "data": {
      "text/html": [
       "<div>\n",
       "<style scoped>\n",
       "    .dataframe tbody tr th:only-of-type {\n",
       "        vertical-align: middle;\n",
       "    }\n",
       "\n",
       "    .dataframe tbody tr th {\n",
       "        vertical-align: top;\n",
       "    }\n",
       "\n",
       "    .dataframe thead th {\n",
       "        text-align: right;\n",
       "    }\n",
       "</style>\n",
       "<table border=\"1\" class=\"dataframe\">\n",
       "  <thead>\n",
       "    <tr style=\"text-align: right;\">\n",
       "      <th></th>\n",
       "      <th>model</th>\n",
       "      <th>rouge1</th>\n",
       "      <th>rouge2</th>\n",
       "      <th>rougeL</th>\n",
       "      <th>rougeLsum</th>\n",
       "    </tr>\n",
       "  </thead>\n",
       "  <tbody>\n",
       "    <tr>\n",
       "      <th>0</th>\n",
       "      <td>./bart-summarizer</td>\n",
       "      <td>0.4879</td>\n",
       "      <td>0.1417</td>\n",
       "      <td>0.4337</td>\n",
       "      <td>0.4337</td>\n",
       "    </tr>\n",
       "    <tr>\n",
       "      <th>1</th>\n",
       "      <td>./long-t5-summarizer</td>\n",
       "      <td>0.0000</td>\n",
       "      <td>0.0000</td>\n",
       "      <td>0.0000</td>\n",
       "      <td>0.0000</td>\n",
       "    </tr>\n",
       "    <tr>\n",
       "      <th>2</th>\n",
       "      <td>./flan-t5-summarizer</td>\n",
       "      <td>0.4366</td>\n",
       "      <td>0.1417</td>\n",
       "      <td>0.3824</td>\n",
       "      <td>0.3824</td>\n",
       "    </tr>\n",
       "    <tr>\n",
       "      <th>3</th>\n",
       "      <td>./longformer-summarizer</td>\n",
       "      <td>0.4879</td>\n",
       "      <td>0.1417</td>\n",
       "      <td>0.4337</td>\n",
       "      <td>0.4337</td>\n",
       "    </tr>\n",
       "    <tr>\n",
       "      <th>4</th>\n",
       "      <td>./t5-summarizer</td>\n",
       "      <td>0.4647</td>\n",
       "      <td>0.0982</td>\n",
       "      <td>0.4020</td>\n",
       "      <td>0.4020</td>\n",
       "    </tr>\n",
       "    <tr>\n",
       "      <th>5</th>\n",
       "      <td>./pegasus-summarizer</td>\n",
       "      <td>0.2262</td>\n",
       "      <td>0.0526</td>\n",
       "      <td>0.2048</td>\n",
       "      <td>0.2048</td>\n",
       "    </tr>\n",
       "  </tbody>\n",
       "</table>\n",
       "</div>"
      ],
      "text/plain": [
       "                     model  rouge1  rouge2  rougeL  rougeLsum\n",
       "0        ./bart-summarizer  0.4879  0.1417  0.4337     0.4337\n",
       "1     ./long-t5-summarizer  0.0000  0.0000  0.0000     0.0000\n",
       "2     ./flan-t5-summarizer  0.4366  0.1417  0.3824     0.3824\n",
       "3  ./longformer-summarizer  0.4879  0.1417  0.4337     0.4337\n",
       "4          ./t5-summarizer  0.4647  0.0982  0.4020     0.4020\n",
       "5     ./pegasus-summarizer  0.2262  0.0526  0.2048     0.2048"
      ]
     },
     "execution_count": 17,
     "metadata": {},
     "output_type": "execute_result"
    }
   ],
   "source": [
    "df_results"
   ]
  },
  {
   "cell_type": "code",
   "execution_count": null,
   "id": "bc4df600",
   "metadata": {},
   "outputs": [
    {
     "data": {
      "image/png": "[encoded data removed]",
      "text/plain": [
       "<Figure size 1000x600 with 1 Axes>"
      ]
     },
     "metadata": {},
     "output_type": "display_data"
    }
   ],
   "source": [
    "import matplotlib.pyplot as plt\n",
    "import seaborn as sns\n",
    "\n",
    "\n",
    "plt.figure(figsize=(10, 6))\n",
    "df_melted = df_results.melt(id_vars=\"model\", value_vars=[\"rouge1\", \"rouge2\", \"rougeL\", \"rougeLsum\"],\n",
    "                            var_name=\"ROUGE type\", value_name=\"Score\")\n",
    "\n",
    "sns.barplot(data=df_melted, x=\"model\", y=\"Score\", hue=\"ROUGE type\")\n",
    "plt.xticks(rotation=45, ha=\"right\")\n",
    "plt.title(\"ROUGE scores per model\")\n",
    "plt.tight_layout()\n",
    "plt.show()"
   ]
  },
  {
   "cell_type": "markdown",
   "id": "2a210a98",
   "metadata": {},
   "source": [
    "**Uitleg:**  \n",
    "Hier kan je zien in de dataframe dat Bart en Longformer het beste presteren. Maar als we gaan kijken naar hoe de samenvatting er echt uit ziet. Vinden wij zelf dat die van bart er het best uit ziet."
   ]
  },
  {
   "cell_type": "markdown",
   "id": "660aff65",
   "metadata": {},
   "source": [
    "Hier kijken we eerst hoe bart zonder finetunen de samenvatting zou genereren. We kunnen zien dat hij er erg veel moeite mee heeft."
   ]
  },
  {
   "cell_type": "code",
   "execution_count": 23,
   "id": "8b9c6a24",
   "metadata": {},
   "outputs": [
    {
     "name": "stderr",
     "output_type": "stream",
     "text": [
      "Device set to use cuda:0\n",
      "Both `max_new_tokens` (=256) and `max_length`(=248) seem to have been set. `max_new_tokens` will take precedence. Please refer to the documentation for more information. (https://huggingface.co/docs/transformers/main/en/main_classes/text_generation)\n"
     ]
    },
    {
     "name": "stdout",
     "output_type": "stream",
     "text": [
      "Summarize the following conversation. Give mainly the opinions of the people: “Hoi allemaal! Wat vinden jullie van die plannen voor een nieuw parkeerterrein aan de rand van het dorp? Goed idee of juist niet? Ben benieuwd naar jullies meningen!”Nou, ik vind het wel een goed idea! 🚗 Meer Parkeerplekken is nooit verkeerd, toch?! 🤩\\\\\\\\\\\\\\\\Ik snap het nut ervan, maar komt het niet pal naast het speelveldje? Dat zou ik echt jammer vinden voo de kinderen 😕\\\\\\\\\\\\\\\\\\\\\\\\Daar heb je eerlijk gezegd vind ik het staat tenslotte om onze leefomgeving! 🌱\\\\\\\\\\\\\\\\\\\\\\\\D’Als we dat zou een groenstrook zou ook ook belangrijk dat we als buurt betrokken worden bij dit soort pl\n",
      "ROUGE scores: {'rouge1': np.float64(0.2605042016806723), 'rouge2': np.float64(0.07627118644067797), 'rougeL': np.float64(0.16806722689075632), 'rougeLsum': np.float64(0.16806722689075632)}\n"
     ]
    }
   ],
   "source": [
    "from transformers import pipeline\n",
    "import json\n",
    "\n",
    "summarizer = pipeline(\"summarization\", model=\"facebook/bart-base\")\n",
    "\n",
    "# Laad het JSON-bestand\n",
    "with open(\"../eval/eval1.json\", \"r\", encoding=\"utf-8\") as f:\n",
    "    data = json.load(f)\n",
    "\n",
    "# Combineer alle tekstberichten met nieuwe regels ertussen\n",
    "chat_text = \"\\n\".join([msg[\"text\"] for msg in data])\n",
    "\n",
    "# Voeg een instructie toe voor betere focus\n",
    "input_text = \"Summarize the following conversation. Give mainly the opinions of the people:\\n\" + chat_text\n",
    "\n",
    "# Samenvatten met beam search en iets langere minimumlengte\n",
    "summary = summarizer(\n",
    "    input_text,\n",
    "    max_length=248,\n",
    "    min_length=50,\n",
    "    do_sample=True,\n",
    "    num_beams=4\n",
    ")[0][\"summary_text\"]\n",
    "\n",
    "print(summary)\n",
    "scores = rouge.compute(predictions=[summary], references=[sumary])\n",
    "print(\"ROUGE scores:\", scores)"
   ]
  },
  {
   "cell_type": "code",
   "execution_count": null,
   "id": "f816290e",
   "metadata": {},
   "outputs": [
    {
     "name": "stdout",
     "output_type": "stream",
     "text": [
      "ROUGE scores: [np.float64(0.2605042016806723), np.float64(0.07627118644067797), np.float64(0.16806722689075632), np.float64(0.16806722689075632)]\n"
     ]
    }
   ],
   "source": [
    "scores = rouge.compute(predictions=[summary], references=[sumary])\n",
    "print(\"ROUGE scores:\", scores)"
   ]
  },
  {
   "cell_type": "code",
   "execution_count": 36,
   "id": "0f01ca8e",
   "metadata": {},
   "outputs": [
    {
     "name": "stdout",
     "output_type": "stream",
     "text": [
      "Vergelijking ROUGE-scores:\n",
      "bart-summarizer:\n",
      "  rouge1:   0.4879\n",
      "  rouge2:   0.1417\n",
      "  rougeL:   0.4337\n",
      "  rougeLsum:0.4337\n",
      "\n",
      "facebook/bart-base:\n",
      "  rouge1:   0.2605\n",
      "  rouge2:   0.0763\n",
      "  rougeL:   0.1681\n",
      "  rougeLsum:0.1681\n"
     ]
    }
   ],
   "source": [
    "# Vergelijk de ROUGE-scores van de huidige run (scores) met bart-summarizer uit df_results\n",
    "\n",
    "# Haal de bart-scores uit df_results\n",
    "bart_row = df_results[df_results[\"model\"] == \"./bart-summarizer\"].iloc[0]\n",
    "\n",
    "print(\"Vergelijking ROUGE-scores:\")\n",
    "print(f\"bart-summarizer:\")\n",
    "print(f\"  rouge1:   {bart_row['rouge1']:.4f}\")\n",
    "print(f\"  rouge2:   {bart_row['rouge2']:.4f}\")\n",
    "print(f\"  rougeL:   {bart_row['rougeL']:.4f}\")\n",
    "print(f\"  rougeLsum:{bart_row['rougeLsum']:.4f}\\n\")\n",
    "\n",
    "print(\"facebook/bart-base:\")\n",
    "print(f\"  rouge1:   {scores['rouge1']:.4f}\")\n",
    "print(f\"  rouge2:   {scores['rouge2']:.4f}\")\n",
    "print(f\"  rougeL:   {scores['rougeL']:.4f}\")\n",
    "print(f\"  rougeLsum:{scores['rougeLsum']:.4f}\")"
   ]
  },
  {
   "cell_type": "code",
   "execution_count": 35,
   "id": "f3093f53",
   "metadata": {},
   "outputs": [
    {
     "data": {
      "image/png": "[encoded data removed]",
      "text/plain": [
       "<Figure size 800x500 with 1 Axes>"
      ]
     },
     "metadata": {},
     "output_type": "display_data"
    }
   ],
   "source": [
    "import matplotlib.pyplot as plt\n",
    "\n",
    "# Data for comparison\n",
    "models = ['bart-summarizer', 'facebook/bart-base']\n",
    "rouge1 = [bart_row['rouge1'], scores['rouge1']]\n",
    "rouge2 = [bart_row['rouge2'], scores['rouge2']]\n",
    "rougeL = [bart_row['rougeL'], scores['rougeL']]\n",
    "rougeLsum = [bart_row['rougeLsum'], scores['rougeLsum']]\n",
    "\n",
    "x = range(len(models))\n",
    "width = 0.2\n",
    "\n",
    "plt.figure(figsize=(8, 5))\n",
    "plt.bar([i - 1.5*width for i in x], rouge1, width, label='ROUGE-1')\n",
    "plt.bar([i - 0.5*width for i in x], rouge2, width, label='ROUGE-2')\n",
    "plt.bar([i + 0.5*width for i in x], rougeL, width, label='ROUGE-L')\n",
    "plt.bar([i + 1.5*width for i in x], rougeLsum, width, label='ROUGE-Lsum')\n",
    "\n",
    "plt.xticks(x, models)\n",
    "plt.ylabel('Score')\n",
    "plt.title('Vergelijking ROUGE scores: bart-summarizer vs facebook/bart-base')\n",
    "plt.legend()\n",
    "plt.tight_layout()\n",
    "plt.show()"
   ]
  },
  {
   "cell_type": "markdown",
   "id": "57b1d48e",
   "metadata": {},
   "source": [
    "Hier vegelijken we de outputs van Longformer en Bart. Zoals je kan zien zijn het niet de beste samenvattingen. Dat komt omdat onze data niet van goede kwaliteit is. Ook hebben we niet zo veel data. En de modellen van zich zelf presteren voor het finetunen al erg matig met het samenvatten van onze chat berichten. Als we de outputs vergelijken van bart voor het finetunen en na het finetunen kunnen we wel zien dat het model iets heeft geleerd. Zo is het model na het finetunen toch wel iets beter in een samenvatting genereren dan het pre-trained model."
   ]
  },
  {
   "cell_type": "code",
   "execution_count": null,
   "id": "9cfdf860",
   "metadata": {},
   "outputs": [
    {
     "name": "stderr",
     "output_type": "stream",
     "text": [
      "c:\\Users\\caspe\\Jaar 3\\Datalab\\Git\\Datalab-lectoraat\\.venv\\Lib\\site-packages\\tqdm\\auto.py:21: TqdmWarning: IProgress not found. Please update jupyter and ipywidgets. See https://ipywidgets.readthedocs.io/en/stable/user_install.html\n",
      "  from .autonotebook import tqdm as notebook_tqdm\n",
      "Device set to use cuda:0\n",
      "Input ids are automatically padded from 831 to 1024 to be a multiple of `config.attention_window`: 1024\n"
     ]
    },
    {
     "name": "stdout",
     "output_type": "stream",
     "text": [
      "Summarize the following conversation. Give me your thoughts about the parkeerterrein in de rand van het dorp.Jullie van die plannen voor een nieuw parkeerterrein aan de rand van het dorp? Goed idee of juist niet? Ben benieuwd naar jullie meningen!Nou, ik vind het wel een goed idee! 🚗 Meer parkeerterrein aan de rand van het dorp\n"
     ]
    }
   ],
   "source": [
    "from transformers import pipeline, AutoTokenizer, AutoModelForSeq2SeqLM\n",
    "import json\n",
    "\n",
    "def preprocces_json(json_file):\n",
    "    \"\"\"\n",
    "    Laad een JSON-bestand en retourneer de tekstberichten.\n",
    "    \"\"\"\n",
    "    with open(json_file, \"r\", encoding=\"utf-8\") as f:\n",
    "        data = json.load(f)\n",
    "\n",
    "    # Combineer alle tekstberichten met nieuwe regels ertussen\n",
    "    chat_text = \"\\n\".join([msg[\"text\"] for msg in data])\n",
    "\n",
    "    input_text = \"Summarize the following conversation. Give mainly the opinions of the people:\\n\" + chat_text\n",
    "    return input_text\n",
    "\n",
    "def for_api(input_text, model_path):\n",
    "    tokenizer = AutoTokenizer.from_pretrained(model_path)\n",
    "    model = AutoModelForSeq2SeqLM.from_pretrained(model_path)\n",
    "    summarizer = pipeline(\"summarization\", model=model, tokenizer=tokenizer)\n",
    "    summary = summarizer(\n",
    "        input_text,\n",
    "        max_length=248,\n",
    "        min_length=50,\n",
    "        do_sample=True,\n",
    "        num_beams=4\n",
    "    )[0][\"summary_text\"]\n",
    "    return summary\n",
    "input_text = preprocces_json(\"eval/eval1.json\")\n",
    "summary = for_api(input_text, \"./longformer-summarizer\")\n",
    "print(summary)"
   ]
  },
  {
   "cell_type": "code",
   "execution_count": 2,
   "id": "61d0922e",
   "metadata": {},
   "outputs": [
    {
     "name": "stderr",
     "output_type": "stream",
     "text": [
      "Device set to use cuda:0\n",
      "Both `max_new_tokens` (=256) and `max_length`(=248) seem to have been set. `max_new_tokens` will take precedence. Please refer to the documentation for more information. (https://huggingface.co/docs/transformers/main/en/main_classes/text_generation)\n"
     ]
    },
    {
     "name": "stdout",
     "output_type": "stream",
     "text": [
      "Summarize the following conversation. Give mainly the opinions of the people:“I’m a parkeerplekken is nooit verkeerd, toch?! 🤩”Hoi allemaal! Wat vinden jullie van die plannen voor een nieuw Parkeerterrein aan de rand van het dorp? Goed idee of juist niet? Ben benieuwd naar Jullie meningen! 🚗Nou, ik vind het wel een goed ideeweek van de storp.“Linda”Ik is a groenstrook, maar komt het niet pal naast het speelveldje? Dat zou ik echt jammer vinden Voor de kinderen 😕🌳🌗Linda and Ik are in onze suggesties. They’re in the onze suggestionies. 🌳Linda is a goed goed punt Fatima. She’s in the storp, but she’ll be in the Storp in de zomer. And we’\n"
     ]
    }
   ],
   "source": [
    "from transformers import pipeline, AutoTokenizer, AutoModelForSeq2SeqLM\n",
    "import json\n",
    "\n",
    "def preprocces_json(json_file):\n",
    "    \"\"\"\n",
    "    Laad een JSON-bestand en retourneer de tekstberichten.\n",
    "    \"\"\"\n",
    "    with open(json_file, \"r\", encoding=\"utf-8\") as f:\n",
    "        data = json.load(f)\n",
    "\n",
    "    # Combineer alle tekstberichten met nieuwe regels ertussen\n",
    "    chat_text = \"\\n\".join([msg[\"text\"] for msg in data])\n",
    "\n",
    "    input_text = \"Summarize the following conversation. Give mainly the opinions of the people:\\n\" + chat_text\n",
    "    return input_text\n",
    "\n",
    "def for_api(input_text, model_path):\n",
    "    tokenizer = AutoTokenizer.from_pretrained(model_path)\n",
    "    model = AutoModelForSeq2SeqLM.from_pretrained(model_path)\n",
    "    summarizer = pipeline(\"summarization\", model=model, tokenizer=tokenizer)\n",
    "    summary = summarizer(\n",
    "        input_text,\n",
    "        max_length=248,\n",
    "        min_length=50,\n",
    "        do_sample=True,\n",
    "        num_beams=4\n",
    "    )[0][\"summary_text\"]\n",
    "    return summary\n",
    "input_text = preprocces_json(\"../eval/eval1.json\")\n",
    "summary = for_api(input_text, \"./bartsummarizer\")\n",
    "print(summary)"
   ]
  },
  {
   "cell_type": "markdown",
   "id": "eb37931c",
   "metadata": {},
   "source": [
    "Hier kunnen we vergelijken van Longformer en Bart. Hier lijken ze erg hetzelfde maar wij vinden persoonlijk dat de Bart er iets beter uit ziet. Hier gaan we dus ook onze API mee maken."
   ]
  }
 ],
 "metadata": {
  "kernelspec": {
   "display_name": ".venv (3.12.9)",
   "language": "python",
   "name": "python3"
  },
  "language_info": {
   "codemirror_mode": {
    "name": "ipython",
    "version": 3
   },
   "file_extension": ".py",
   "mimetype": "text/x-python",
   "name": "python",
   "nbconvert_exporter": "python",
   "pygments_lexer": "ipython3",
   "version": "3.12.9"
  }
 },
 "nbformat": 4,
 "nbformat_minor": 5
}
